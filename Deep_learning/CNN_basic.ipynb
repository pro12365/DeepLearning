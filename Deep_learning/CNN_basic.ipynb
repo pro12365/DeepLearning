{
 "cells": [
  {
   "cell_type": "markdown",
   "metadata": {},
   "source": [
    "### Convolution Operation Breakdown\n"
   ]
  },
  {
   "cell_type": "code",
   "execution_count": 14,
   "metadata": {},
   "outputs": [],
   "source": [
    "import numpy as np\n",
    "import matplotlib.pyplot as plt"
   ]
  },
  {
   "cell_type": "markdown",
   "metadata": {},
   "source": [
    "<b>Explanation:</b>\n",
    "Input Image\n",
    "𝐼<br>\n",
    "I: Defined as a 6x6 numpy array representing grayscale pixel values.<br>\n",
    "Filter\n",
    "𝐾<br>\n",
    "K: The vertical edge detection filter is also defined as a 3x3 numpy array.\n"
   ]
  },
  {
   "cell_type": "code",
   "execution_count": 15,
   "metadata": {},
   "outputs": [],
   "source": [
    "# Define the input image (6x6 grayscale)\n",
    "I = np.array([\n",
    "    [50, 40, 30, 20, 10, 0],\n",
    "    [55, 45, 35, 25, 15, 5],\n",
    "    [60, 50, 40, 30, 20, 10],\n",
    "    [65, 55, 45, 35, 25, 15],\n",
    "    [70, 60, 50, 40, 30, 20],\n",
    "    [75, 65, 55, 45, 35, 25]\n",
    "], dtype=np.float32)\n",
    "\n",
    "# Define the vertical edge detection filter (3x3)\n",
    "K = np.array([\n",
    "    [-1, 0, 1],\n",
    "    [-2, 0, 2],\n",
    "    [-1, 0, 1]\n",
    "], dtype=np.float32)"
   ]
  },
  {
   "cell_type": "markdown",
   "metadata": {},
   "source": [
    "Convolution Function (convolve):<br>\n",
    "Iterates over each pixel in the input image \n",
    "𝐼\n",
    "I.\n",
    "Extracts the region of interest (ROI) corresponding to the filter size.<br>\n",
    "Computes the element-wise multiplication between the ROI and the filter <br>\n",
    "𝐾\n",
    "K, and sums up the results to get the corresponding output pixel."
   ]
  },
  {
   "cell_type": "code",
   "execution_count": 16,
   "metadata": {},
   "outputs": [],
   "source": [
    "# Function to perform convolution operation\n",
    "def convolve(image, kernel):\n",
    "    image_height, image_width = image.shape\n",
    "    kernel_size = kernel.shape[0]\n",
    "    pad = kernel_size // 2  # Padding to handle borders\n",
    "\n",
    "    # Initialize output feature map\n",
    "    output = np.zeros_like(image)\n",
    "\n",
    "    # Perform convolution\n",
    "    for i in range(pad, image_height - pad):\n",
    "        for j in range(pad, image_width - pad):\n",
    "            # Extract the region of interest (ROI) from the image\n",
    "            roi = image[i-pad:i+pad+1, j-pad:j+pad+1]\n",
    "            # Apply the convolution operation\n",
    "            output[i, j] = np.sum(roi * kernel)\n",
    "\n",
    "    return output\n"
   ]
  },
  {
   "cell_type": "code",
   "execution_count": 17,
   "metadata": {},
   "outputs": [],
   "source": [
    "\n",
    "# Perform convolution on the input image\n",
    "output = convolve(I, K)"
   ]
  },
  {
   "cell_type": "code",
   "execution_count": 18,
   "metadata": {},
   "outputs": [
    {
     "data": {
      "image/png": "[encoded data removed]",
      "text/plain": [
       "<Figure size 1000x600 with 3 Axes>"
      ]
     },
     "metadata": {},
     "output_type": "display_data"
    }
   ],
   "source": [
    "# Plotting the images\n",
    "plt.figure(figsize=(10, 6))\n",
    "\n",
    "# Plot Input Image\n",
    "plt.subplot(1, 3, 1)\n",
    "plt.imshow(I, cmap='gray')\n",
    "plt.title('Input Image')\n",
    "plt.axis('off')\n",
    "\n",
    "# Plot Filter (Kernel)\n",
    "plt.subplot(1, 3, 2)\n",
    "plt.imshow(K, cmap='gray')\n",
    "plt.title('Vertical Edge Detection Filter')\n",
    "plt.axis('off')\n",
    "\n",
    "# Plot Output Feature Map\n",
    "plt.subplot(1, 3, 3)\n",
    "plt.imshow(output, cmap='gray')\n",
    "plt.title('Output Feature Map')\n",
    "plt.axis('off')\n",
    "\n",
    "plt.tight_layout()\n",
    "plt.show()"
   ]
  },
  {
   "cell_type": "markdown",
   "metadata": {},
   "source": [
    "Convolution Operation for RGB Images\n",
    "For RGB images, each pixel has three color channels (Red, Green, Blue). If \n",
    "𝐼\n",
    "I represents an RGB image, and \n",
    "𝐾\n",
    "K is a filter, the convolution operation is applied separately to each channel. Here's the modified mathematical formulation:"
   ]
  },
  {
   "cell_type": "code",
   "execution_count": 19,
   "metadata": {},
   "outputs": [],
   "source": [
    "\n",
    "# Define the input RGB image (6x6x3)\n",
    "I_rgb = np.array([\n",
    "    [[50, 40, 30], [20, 10, 0], [55, 45, 35], [25, 15, 5], [60, 50, 40], [30, 20, 10]],\n",
    "    [[65, 55, 45], [35, 25, 15], [70, 60, 50], [40, 30, 20], [75, 65, 55], [45, 35, 25]],\n",
    "    [[80, 70, 60], [50, 40, 30], [85, 75, 65], [55, 45, 35], [90, 80, 70], [60, 50, 40]],\n",
    "    [[95, 85, 75], [65, 55, 45], [100, 90, 80], [70, 60, 50], [105, 95, 85], [75, 65, 55]],\n",
    "    [[110, 100, 90], [80, 70, 60], [115, 105, 95], [85, 75, 65], [120, 110, 100], [90, 80, 70]],\n",
    "    [[125, 115, 105], [95, 85, 75], [130, 120, 110], [100, 90, 80], [135, 125, 115], [105, 95, 85]]\n",
    "], dtype=np.float32)"
   ]
  },
  {
   "cell_type": "code",
   "execution_count": 20,
   "metadata": {},
   "outputs": [],
   "source": [
    "# Function to perform convolution operation on RGB image\n",
    "def convolve_rgb(image, kernel):\n",
    "    image_height, image_width, num_channels = image.shape\n",
    "    kernel_size, _, _ = kernel.shape\n",
    "    pad = kernel_size // 2  # Padding to handle borders\n",
    "\n",
    "    # Initialize output feature map\n",
    "    output = np.zeros((image_height - 2 * pad, image_width - 2 * pad, num_channels))\n",
    "\n",
    "    # Perform convolution\n",
    "    for i in range(pad, image_height - pad):\n",
    "        for j in range(pad, image_width - pad):\n",
    "            for c in range(num_channels):\n",
    "                # Extract the region of interest (ROI) from the image\n",
    "                roi = image[i-pad:i+pad+1, j-pad:j+pad+1, c]\n",
    "                # Apply the convolution operation\n",
    "                output[i-pad, j-pad, c] = np.sum(roi * kernel[:, :, c])\n",
    "\n",
    "    return output"
   ]
  },
  {
   "cell_type": "code",
   "execution_count": 21,
   "metadata": {},
   "outputs": [
    {
     "data": {
      "text/plain": [
       "(-0.5, 2.5, 2.5, -0.5)"
      ]
     },
     "execution_count": 21,
     "metadata": {},
     "output_type": "execute_result"
    },
    {
     "data": {
      "image/png": "[encoded data removed]",
      "text/plain": [
       "<Figure size 1500x500 with 2 Axes>"
      ]
     },
     "metadata": {},
     "output_type": "display_data"
    }
   ],
   "source": [
    "\n",
    "# Perform convolution on the input RGB image\n",
    "output_rgb = convolve_rgb(I_rgb, K_rgb)\n",
    "\n",
    "# Plotting the images\n",
    "plt.figure(figsize=(15, 5))\n",
    "\n",
    "# Plot Input RGB Image\n",
    "plt.subplot(1, 3, 1)\n",
    "plt.imshow(I_rgb.astype(np.uint8))\n",
    "plt.title('Input RGB Image')\n",
    "plt.axis('off')\n",
    "\n",
    "# Plot Filter (Kernel) for the first channel\n",
    "plt.subplot(1, 3, 2)\n",
    "plt.imshow(K_rgb[:, :, 0], cmap='gray')\n",
    "plt.title('RGB Vertical Edge Detection Filter (Channel 0)')\n",
    "plt.axis('off')"
   ]
  }
 ],
 "metadata": {
  "kernelspec": {
   "display_name": "Python 3",
   "language": "python",
   "name": "python3"
  },
  "language_info": {
   "codemirror_mode": {
    "name": "ipython",
    "version": 3
   },
   "file_extension": ".py",
   "mimetype": "text/x-python",
   "name": "python",
   "nbconvert_exporter": "python",
   "pygments_lexer": "ipython3",
   "version": "3.11.4"
  }
 },
 "nbformat": 4,
 "nbformat_minor": 2
}
