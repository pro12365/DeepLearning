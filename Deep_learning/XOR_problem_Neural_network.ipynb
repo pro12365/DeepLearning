{
 "cells": [
  {
   "cell_type": "code",
   "execution_count": 4,
   "metadata": {},
   "outputs": [],
   "source": [
    "import numpy as np \n",
    "import matplotlib.pyplot as plt"
   ]
  },
  {
   "cell_type": "code",
   "execution_count": 5,
   "metadata": {},
   "outputs": [],
   "source": [
    "# Activation function and its derivative\n",
    "def sigmoid(x):\n",
    "    return 1 / (1 + np.exp(-x))\n",
    "\n",
    "def sigmoid_derivative(x):\n",
    "    return x * (1 - x)"
   ]
  },
  {
   "cell_type": "code",
   "execution_count": 6,
   "metadata": {},
   "outputs": [],
   "source": [
    "# Define the neural network structure\n",
    "input_size = 2\n",
    "hidden_size = 2\n",
    "output_size = 1\n",
    "\n",
    "# Initialize weights and biases\n",
    "np.random.seed(42)  # For reproducibility\n",
    "W1 = np.random.randn(input_size, hidden_size)\n",
    "b1 = np.random.randn(hidden_size)\n",
    "W2 = np.random.randn(hidden_size, output_size)\n",
    "b2 = np.random.randn(output_size)"
   ]
  },
  {
   "cell_type": "code",
   "execution_count": 7,
   "metadata": {},
   "outputs": [],
   "source": [
    "# Forward propagation\n",
    "def forward(X):\n",
    "    global Z1, A1, Z2, A2\n",
    "    Z1 = np.dot(X, W1) + b1\n",
    "    A1 = sigmoid(Z1)\n",
    "    Z2 = np.dot(A1, W2) + b2\n",
    "    A2 = sigmoid(Z2)\n",
    "    return A2\n",
    "\n",
    "# Backward propagation\n",
    "def backward(X, y, output, learning_rate):\n",
    "    global W1, b1, W2, b2\n",
    "    output_error = y - output\n",
    "    output_delta = output_error * sigmoid_derivative(output)\n",
    "    \n",
    "    hidden_error = output_delta.dot(W2.T)\n",
    "    hidden_delta = hidden_error * sigmoid_derivative(A1)\n",
    "    \n",
    "    W2 += A1.T.dot(output_delta) * learning_rate\n",
    "    b2 += np.sum(output_delta, axis=0) * learning_rate\n",
    "    W1 += X.T.dot(hidden_delta) * learning_rate\n",
    "    b1 += np.sum(hidden_delta, axis=0) * learning_rate\n"
   ]
  },
  {
   "cell_type": "code",
   "execution_count": 8,
   "metadata": {},
   "outputs": [
    {
     "name": "stdout",
     "output_type": "stream",
     "text": [
      "Epoch 1000/10000, Loss: 0.24442900063146195\n",
      "Epoch 2000/10000, Loss: 0.20359789746437937\n",
      "Epoch 3000/10000, Loss: 0.1534055786727196\n",
      "Epoch 4000/10000, Loss: 0.046398486976845926\n",
      "Epoch 5000/10000, Loss: 0.015626914962059073\n",
      "Epoch 6000/10000, Loss: 0.008452488215754322\n",
      "Epoch 7000/10000, Loss: 0.005615456282023927\n",
      "Epoch 8000/10000, Loss: 0.004147590639251683\n",
      "Epoch 9000/10000, Loss: 0.0032642383004088476\n",
      "Epoch 10000/10000, Loss: 0.002679230486596711\n",
      "Predicted Output:\n",
      "[[0.05395132]\n",
      " [0.9505447 ]\n",
      " [0.95009809]\n",
      " [0.05355567]]\n",
      "True Output:\n",
      "[[0]\n",
      " [1]\n",
      " [1]\n",
      " [0]]\n"
     ]
    }
   ],
   "source": [
    "# Training the neural network\n",
    "def train(X, y, epochs, learning_rate):\n",
    "    for epoch in range(epochs):\n",
    "        output = forward(X)\n",
    "        backward(X, y, output, learning_rate)\n",
    "        if (epoch + 1) % 1000 == 0:\n",
    "            loss = np.mean(np.square(y - output))\n",
    "            print(f'Epoch {epoch+1}/{epochs}, Loss: {loss}')\n",
    "\n",
    "# Sample data for a simple problem: XOR logic gate\n",
    "X = np.array([[0, 0],\n",
    "              [0, 1],\n",
    "              [1, 0],\n",
    "              [1, 1]])\n",
    "\n",
    "y = np.array([[0],\n",
    "              [1],\n",
    "              [1],\n",
    "              [0]])\n",
    "\n",
    "# Training the neural network\n",
    "epochs = 10000\n",
    "learning_rate = 0.1\n",
    "train(X, y, epochs, learning_rate)\n",
    "\n",
    "# Test the neural network\n",
    "output = forward(X)\n",
    "print(\"Predicted Output:\")\n",
    "print(output)\n",
    "print(\"True Output:\")\n",
    "print(y)"
   ]
  },
  {
   "cell_type": "code",
   "execution_count": 9,
   "metadata": {},
   "outputs": [
    {
     "data": {
      "image/png": "[encoded data removed]",
      "text/plain": [
       "<Figure size 640x480 with 1 Axes>"
      ]
     },
     "metadata": {},
     "output_type": "display_data"
    }
   ],
   "source": [
    "# Plot the predicted output against the true output\n",
    "plt.scatter(range(len(y)), y, color='blue', label='True Output')\n",
    "plt.scatter(range(len(output)), output, color='red', label='Predicted Output')\n",
    "plt.title('True vs Predicted Output')\n",
    "plt.xlabel('Sample')\n",
    "plt.ylabel('Output')\n",
    "plt.legend()\n",
    "plt.show()"
   ]
  }
 ],
 "metadata": {
  "kernelspec": {
   "display_name": "Python 3",
   "language": "python",
   "name": "python3"
  },
  "language_info": {
   "codemirror_mode": {
    "name": "ipython",
    "version": 3
   },
   "file_extension": ".py",
   "mimetype": "text/x-python",
   "name": "python",
   "nbconvert_exporter": "python",
   "pygments_lexer": "ipython3",
   "version": "3.11.4"
  }
 },
 "nbformat": 4,
 "nbformat_minor": 2
}
