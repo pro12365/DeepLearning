{
 "cells": [
  {
   "cell_type": "code",
   "execution_count": 4,
   "metadata": {},
   "outputs": [],
   "source": [
    "import torch \n",
    "import torch.nn as nn"
   ]
  },
  {
   "cell_type": "markdown",
   "metadata": {},
   "source": [
    "ReLU Activation Function:"
   ]
  },
  {
   "cell_type": "code",
   "execution_count": 5,
   "metadata": {},
   "outputs": [
    {
     "name": "stdout",
     "output_type": "stream",
     "text": [
      "tensor([0., 0., 3., 0.])\n"
     ]
    }
   ],
   "source": [
    "r= nn.ReLU()\n",
    "input_test= torch.Tensor([-1,-2,3,-5])\n",
    "output_test= r(input_test)\n",
    "print(output_test)"
   ]
  },
  {
   "cell_type": "markdown",
   "metadata": {},
   "source": [
    "Sigmoid Activation Function:"
   ]
  },
  {
   "cell_type": "code",
   "execution_count": 6,
   "metadata": {},
   "outputs": [
    {
     "name": "stdout",
     "output_type": "stream",
     "text": [
      "tensor([0.7311, 0.1192, 0.9526, 0.0067])\n"
     ]
    }
   ],
   "source": [
    "# Calling the sigmoid function\n",
    "sig = nn.Sigmoid()\n",
    " \n",
    "# Defining tensor\n",
    "input = torch.Tensor([1,-2,3,-5])\n",
    " \n",
    "# Applying sigmoid to the tensor\n",
    "output = sig(input)\n",
    " \n",
    "print(output)"
   ]
  },
  {
   "cell_type": "markdown",
   "metadata": {},
   "source": [
    "Tanh Activation Function:"
   ]
  },
  {
   "cell_type": "code",
   "execution_count": 7,
   "metadata": {},
   "outputs": [
    {
     "name": "stdout",
     "output_type": "stream",
     "text": [
      "tensor([ 0.7616, -0.9640,  0.9951, -0.9999])\n"
     ]
    }
   ],
   "source": [
    "# Calling the Tanh function\n",
    "t = nn.Tanh()\n",
    " \n",
    "# Defining tensor\n",
    "input = torch.Tensor([1,-2,3,-5])\n",
    " \n",
    "# Applying Tanh to the tensor\n",
    "output = t(input)\n",
    "print(output)"
   ]
  },
  {
   "cell_type": "markdown",
   "metadata": {},
   "source": [
    "Softmax Activation Function:"
   ]
  },
  {
   "cell_type": "code",
   "execution_count": 8,
   "metadata": {},
   "outputs": [
    {
     "name": "stdout",
     "output_type": "stream",
     "text": [
      "tensor([1.1846e-01, 5.8980e-03, 8.7534e-01, 2.9365e-04])\n"
     ]
    }
   ],
   "source": [
    "# Calling the Softmax function with\n",
    "# dimension = 0 as dimension starts\n",
    "# from 0\n",
    "sm = nn.Softmax(dim=0) \n",
    " \n",
    "# Defining tensor\n",
    "input = torch.Tensor([1,-2,3,-5])\n",
    " \n",
    "# Applying function to the tensor\n",
    "output = sm(input)\n",
    "print(output)"
   ]
  }
 ],
 "metadata": {
  "kernelspec": {
   "display_name": "Python 3",
   "language": "python",
   "name": "python3"
  },
  "language_info": {
   "codemirror_mode": {
    "name": "ipython",
    "version": 3
   },
   "file_extension": ".py",
   "mimetype": "text/x-python",
   "name": "python",
   "nbconvert_exporter": "python",
   "pygments_lexer": "ipython3",
   "version": "3.11.4"
  },
  "orig_nbformat": 4
 },
 "nbformat": 4,
 "nbformat_minor": 2
}
