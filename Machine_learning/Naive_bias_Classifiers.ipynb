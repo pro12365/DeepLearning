{
 "cells": [
  {
   "cell_type": "code",
   "execution_count": 1,
   "metadata": {},
   "outputs": [],
   "source": [
    "import numpy as np"
   ]
  },
  {
   "cell_type": "code",
   "execution_count": 2,
   "metadata": {},
   "outputs": [],
   "source": [
    "class NaiveBayes:\n",
    "    def __init__(self):\n",
    "        self.class_probabilities = None\n",
    "        self.feature_probabilities = None\n",
    "\n",
    "    def fit(self, X, y):\n",
    "        n_samples, n_features = X.shape\n",
    "        self.classes = np.unique(y)\n",
    "        n_classes = len(self.classes)\n",
    "\n",
    "        # Calculate class probabilities\n",
    "        self.class_probabilities = np.zeros(n_classes)\n",
    "        for i, c in enumerate(self.classes):\n",
    "            self.class_probabilities[i] = np.sum(y == c) / n_samples\n",
    "\n",
    "        # Calculate feature probabilities\n",
    "        self.feature_probabilities = {}\n",
    "        for c in self.classes:\n",
    "            self.feature_probabilities[c] = []\n",
    "            for i in range(n_features):\n",
    "                feature_values = np.unique(X[:, i])\n",
    "                probabilities = []\n",
    "                for v in feature_values:\n",
    "                    count = np.sum((X[:, i] == v) & (y == c))\n",
    "                    probability = (count + 1) / (np.sum(y == c) + len(feature_values))  # Laplace smoothing\n",
    "                    probabilities.append(probability)\n",
    "                self.feature_probabilities[c].append(probabilities)\n",
    "\n",
    "    def predict(self, X):\n",
    "        predictions = []\n",
    "        for sample in X:\n",
    "            class_scores = []\n",
    "            for i, c in enumerate(self.classes):\n",
    "                class_score = np.log(self.class_probabilities[i])\n",
    "                for j, feature_value in enumerate(sample):\n",
    "                    feature_probs = self.feature_probabilities[c][j]\n",
    "                    if feature_value in range(len(feature_probs)):\n",
    "                        class_score += np.log(feature_probs[int(feature_value)])\n",
    "                class_scores.append(class_score)\n",
    "            predicted_class = self.classes[np.argmax(class_scores)]\n",
    "            predictions.append(predicted_class)\n",
    "        return predictions"
   ]
  },
  {
   "cell_type": "code",
   "execution_count": 3,
   "metadata": {},
   "outputs": [
    {
     "name": "stdout",
     "output_type": "stream",
     "text": [
      "Predictions: [1, 1, 0]\n"
     ]
    }
   ],
   "source": [
    "# Example usage:\n",
    "X = np.array([[1, 1], [1, 2], [2, 1], [2, 2], [3, 1], [3, 2]])\n",
    "y = np.array([0, 0, 0, 1, 1, 1])  # Binary classification\n",
    "\n",
    "nb_classifier = NaiveBayes()\n",
    "nb_classifier.fit(X, y)\n",
    "\n",
    "# Test data\n",
    "X_test = np.array([[1, 1], [2, 1], [3, 2]])\n",
    "\n",
    "# Predict\n",
    "predictions = nb_classifier.predict(X_test)\n",
    "print(\"Predictions:\", predictions)"
   ]
  }
 ],
 "metadata": {
  "kernelspec": {
   "display_name": "Python 3",
   "language": "python",
   "name": "python3"
  },
  "language_info": {
   "codemirror_mode": {
    "name": "ipython",
    "version": 3
   },
   "file_extension": ".py",
   "mimetype": "text/x-python",
   "name": "python",
   "nbconvert_exporter": "python",
   "pygments_lexer": "ipython3",
   "version": "3.11.4"
  }
 },
 "nbformat": 4,
 "nbformat_minor": 2
}
