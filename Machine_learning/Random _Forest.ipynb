{
 "cells": [
  {
   "cell_type": "code",
   "execution_count": 9,
   "metadata": {},
   "outputs": [],
   "source": [
    "import numpy as np\n",
    "import matplotlib.pyplot as plt\n",
    "from matplotlib.colors import ListedColormap"
   ]
  },
  {
   "cell_type": "code",
   "execution_count": 10,
   "metadata": {},
   "outputs": [],
   "source": [
    "class DecisionTree:\n",
    "    def __init__(self, max_depth=None):\n",
    "        self.max_depth = max_depth\n",
    "\n",
    "    def fit(self, X, y):\n",
    "        self.tree = self._grow_tree(X, y)\n",
    "\n",
    "    def _grow_tree(self, X, y, depth=0):\n",
    "        n_samples, n_features = X.shape\n",
    "        n_labels = len(np.unique(y))\n",
    "\n",
    "        # Stopping criteria\n",
    "        if (self.max_depth is not None and depth >= self.max_depth) or n_labels == 1:\n",
    "            leaf_value = self._most_common_label(y)\n",
    "            return {'class': leaf_value}\n",
    "\n",
    "        # Find the best split\n",
    "        feature_index, threshold = self._best_split(X, y)\n",
    "\n",
    "        # Split the dataset\n",
    "        X_left, X_right, y_left, y_right = self._split(X, y, feature_index, threshold)\n",
    "\n",
    "        # Recursively grow left and right subtrees\n",
    "        left_subtree = self._grow_tree(X_left, y_left, depth + 1)\n",
    "        right_subtree = self._grow_tree(X_right, y_right, depth + 1)\n",
    "\n",
    "        return {'feature_index': feature_index,\n",
    "                'threshold': threshold,\n",
    "                'left': left_subtree,\n",
    "                'right': right_subtree}\n",
    "\n",
    "    def _best_split(self, X, y):\n",
    "        best_gini = np.inf\n",
    "        best_feature, best_threshold = None, None\n",
    "\n",
    "        for feature_index in range(X.shape[1]):\n",
    "            thresholds = np.unique(X[:, feature_index])\n",
    "            for threshold in thresholds:\n",
    "                y_left = y[X[:, feature_index] <= threshold]\n",
    "                y_right = y[X[:, feature_index] > threshold]\n",
    "                gini = self._gini_impurity(y_left, y_right)\n",
    "                if gini < best_gini:\n",
    "                    best_gini = gini\n",
    "                    best_feature = feature_index\n",
    "                    best_threshold = threshold\n",
    "\n",
    "        return best_feature, best_threshold\n",
    "\n",
    "    def _gini_impurity(self, y_left, y_right):\n",
    "        p_left = len(y_left) / (len(y_left) + len(y_right))\n",
    "        p_right = len(y_right) / (len(y_left) + len(y_right))\n",
    "        gini_left = 1 - sum([(np.sum(y_left == c) / len(y_left)) ** 2 for c in np.unique(y_left)])\n",
    "        gini_right = 1 - sum([(np.sum(y_right == c) / len(y_right)) ** 2 for c in np.unique(y_right)])\n",
    "        gini = p_left * gini_left + p_right * gini_right\n",
    "        return gini\n",
    "\n",
    "    def _split(self, X, y, feature_index, threshold):\n",
    "        X_left = X[X[:, feature_index] <= threshold]\n",
    "        X_right = X[X[:, feature_index] > threshold]\n",
    "        y_left = y[X[:, feature_index] <= threshold]\n",
    "        y_right = y[X[:, feature_index] > threshold]\n",
    "        return X_left, X_right, y_left, y_right\n",
    "\n",
    "    def _most_common_label(self, y):\n",
    "        return np.bincount(y).argmax()\n",
    "\n",
    "    def predict_instance(self, x, tree):\n",
    "        if 'class' in tree:\n",
    "            return tree['class']\n",
    "        if x[tree['feature_index']] <= tree['threshold']:\n",
    "            return self.predict_instance(x, tree['left'])\n",
    "        else:\n",
    "            return self.predict_instance(x, tree['right'])\n",
    "\n",
    "    def predict(self, X):\n",
    "        return [self.predict_instance(x, self.tree) for x in X]"
   ]
  },
  {
   "cell_type": "code",
   "execution_count": 11,
   "metadata": {},
   "outputs": [],
   "source": [
    "\n",
    "class RandomForest:\n",
    "    def __init__(self, n_estimators=100, max_depth=None):\n",
    "        self.n_estimators = n_estimators\n",
    "        self.max_depth = max_depth\n",
    "        self.trees = []\n",
    "\n",
    "    def fit(self, X, y):\n",
    "        for _ in range(self.n_estimators):\n",
    "            tree = DecisionTree(max_depth=self.max_depth)\n",
    "            indices = np.random.choice(len(X), len(X), replace=True)\n",
    "            tree.fit(X[indices], y[indices])\n",
    "            self.trees.append(tree)\n",
    "\n",
    "    def predict(self, X):\n",
    "        predictions = np.array([tree.predict(X) for tree in self.trees])\n",
    "        return np.mean(predictions, axis=0).astype(int)"
   ]
  },
  {
   "cell_type": "code",
   "execution_count": 12,
   "metadata": {},
   "outputs": [
    {
     "name": "stdout",
     "output_type": "stream",
     "text": [
      "Predictions: [0 0 0 0]\n"
     ]
    }
   ],
   "source": [
    "# Create a sample dataset\n",
    "X = np.array([[0, 0], [1, 1], [0, 1], [1, 0]])\n",
    "y = np.array([0, 1, 1, 0])\n",
    "\n",
    "# Define and train the Random Forest classifier\n",
    "random_forest = RandomForest(n_estimators=10, max_depth=3)\n",
    "random_forest.fit(X, y)\n",
    "\n",
    "# Make predictions\n",
    "predictions = random_forest.predict(X)\n",
    "print(\"Predictions:\", predictions)"
   ]
  },
  {
   "cell_type": "code",
   "execution_count": 13,
   "metadata": {},
   "outputs": [
    {
     "name": "stdout",
     "output_type": "stream",
     "text": [
      "Predictions: [0 0 0 0]\n"
     ]
    }
   ],
   "source": [
    "# Create a sample dataset\n",
    "X = np.array([[0, 0], [1, 1], [0, 1], [1, 0]])\n",
    "y = np.array([0, 1, 1, 0])\n",
    "\n",
    "# Define and train the Random Forest classifier\n",
    "random_forest = RandomForest(n_estimators=10, max_depth=3)\n",
    "random_forest.fit(X, y)\n",
    "\n",
    "# Make predictions\n",
    "predictions = random_forest.predict(X)\n",
    "print(\"Predictions:\", predictions)"
   ]
  },
  {
   "cell_type": "code",
   "execution_count": 14,
   "metadata": {},
   "outputs": [
    {
     "data": {
      "image/png": "[encoded data removed]",
      "text/plain": [
       "<Figure size 800x600 with 1 Axes>"
      ]
     },
     "metadata": {},
     "output_type": "display_data"
    }
   ],
   "source": [
    "# Define mesh grid\n",
    "x_min, x_max = X[:, 0].min() - 1, X[:, 0].max() + 1\n",
    "y_min, y_max = X[:, 1].min() - 1, X[:, 1].max() + 1\n",
    "xx, yy = np.meshgrid(np.linspace(x_min, x_max, 100), np.linspace(y_min, y_max, 100))\n",
    "\n",
    "# Make predictions on the mesh grid\n",
    "mesh_points = np.c_[xx.ravel(), yy.ravel()]\n",
    "Z = random_forest.predict(mesh_points)\n",
    "\n",
    "# Reshape the predictions to the shape of the mesh grid\n",
    "Z = Z.reshape(xx.shape)\n",
    "\n",
    "# Plot decision boundary\n",
    "plt.figure(figsize=(8, 6))\n",
    "plt.contourf(xx, yy, Z, alpha=0.3, cmap=ListedColormap(('red', 'blue')))\n",
    "\n",
    "# Plot data points\n",
    "plt.scatter(X[:, 0], X[:, 1], c=y, cmap=ListedColormap(('red', 'blue')), edgecolors='k')\n",
    "plt.xlabel('Feature 1')\n",
    "plt.ylabel('Feature 2')\n",
    "plt.title('Random Forest Decision Boundary')\n",
    "plt.show()\n"
   ]
  }
 ],
 "metadata": {
  "kernelspec": {
   "display_name": "Python 3",
   "language": "python",
   "name": "python3"
  },
  "language_info": {
   "codemirror_mode": {
    "name": "ipython",
    "version": 3
   },
   "file_extension": ".py",
   "mimetype": "text/x-python",
   "name": "python",
   "nbconvert_exporter": "python",
   "pygments_lexer": "ipython3",
   "version": "3.11.4"
  }
 },
 "nbformat": 4,
 "nbformat_minor": 2
}
